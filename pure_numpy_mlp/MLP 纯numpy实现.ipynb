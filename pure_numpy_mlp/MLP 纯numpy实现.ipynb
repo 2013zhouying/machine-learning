{
 "cells": [
  {
   "cell_type": "markdown",
   "metadata": {},
   "source": [
    "# MLP numpy实现"
   ]
  },
  {
   "cell_type": "code",
   "execution_count": 1,
   "metadata": {
    "collapsed": true
   },
   "outputs": [],
   "source": [
    "import numpy as np\n",
    "import matplotlib.pyplot as plt\n",
    "%matplotlib inline"
   ]
  },
  {
   "cell_type": "code",
   "execution_count": 2,
   "metadata": {
    "collapsed": true
   },
   "outputs": [],
   "source": [
    "# 定义一个layer\n",
    "class Layer:\n",
    "    def __init__(self):\n",
    "        pass\n",
    "    def forward(self, input):\n",
    "        return input\n",
    "    def backward(self, input, grad_output):\n",
    "        pass"
   ]
  },
  {
   "cell_type": "code",
   "execution_count": 3,
   "metadata": {
    "collapsed": true
   },
   "outputs": [],
   "source": [
    "# 定义Relu层\n",
    "class ReLU(Layer):\n",
    "    def __init__(self):\n",
    "        pass\n",
    "    def forward(self,input):\n",
    "        return np.maximum(0,input)\n",
    "    def backward(self,input,grad_output):\n",
    "        relu_grad = input>0\n",
    "        return grad_output*relu_grad"
   ]
  },
  {
   "cell_type": "code",
   "execution_count": 44,
   "metadata": {
    "collapsed": true
   },
   "outputs": [],
   "source": [
    "class Sigmoid(Layer):\n",
    "    def __init__(self):\n",
    "        pass\n",
    "    \n",
    "    def _sigmoid(self,x):\n",
    "        return 1.0/(1+np.exp(-x))\n",
    "    \n",
    "    def forward(self,input):\n",
    "        return self._sigmoid(input)\n",
    "    \n",
    "    def backward(self,input,grad_output):\n",
    "        sigmoid_grad = self._sigmoid(input)*(1-self._sigmoid(input))\n",
    "        return grad_output*sigmoid_grad"
   ]
  },
  {
   "cell_type": "code",
   "execution_count": 68,
   "metadata": {},
   "outputs": [],
   "source": [
    "class Tanh(Layer):\n",
    "    def __init__(self):\n",
    "        pass\n",
    "    def _tanh(self,x):\n",
    "        return np.tanh(x)\n",
    "    def forward(self,input):\n",
    "        return self._tanh(input)\n",
    "    def backward(self, input, grad_output):\n",
    "        grad_tanh = 1-(self._tanh(input))**2\n",
    "        return grad_output*grad_tanh"
   ]
  },
  {
   "cell_type": "code",
   "execution_count": 80,
   "metadata": {
    "collapsed": true
   },
   "outputs": [],
   "source": [
    "class Dense(Layer):\n",
    "    def __init__(self, input_units, output_units, learning_rate=0.01):\n",
    "        self.learning_rate = learning_rate\n",
    "        self.weights = np.random.randn(input_units, output_units)*0.01\n",
    "        self.biases = np.zeros(output_units)\n",
    "    def forward(self,input):\n",
    "        return np.dot(input,self.weights)+self.biases\n",
    "    def backward(self,input,grad_output):\n",
    "        grad_input = np.dot(grad_output, self.weights.T)\n",
    "        grad_weights = np.dot(input.T,grad_output)/input.shape[0]\n",
    "        grad_biases = grad_output.mean(axis=0)\n",
    "        self.weights = self.weights - self.learning_rate*grad_weights\n",
    "        self.biases = self.biases - self.learning_rate*grad_biases\n",
    "        return grad_input"
   ]
  },
  {
   "cell_type": "code",
   "execution_count": 81,
   "metadata": {
    "collapsed": true
   },
   "outputs": [],
   "source": [
    "def forward(network,X):\n",
    "    activations = []\n",
    "    input = X\n",
    "    for layer in network:\n",
    "        activations.append(layer.forward(input))\n",
    "        input = activations[-1]\n",
    "                \n",
    "    assert len(activations) == len(network)\n",
    "    return activations"
   ]
  },
  {
   "cell_type": "code",
   "execution_count": 82,
   "metadata": {
    "collapsed": true
   },
   "outputs": [],
   "source": [
    "def predict(network,X):\n",
    "    logits = forward(network,X)[-1]\n",
    "    return logits"
   ]
  },
  {
   "cell_type": "code",
   "execution_count": 83,
   "metadata": {
    "collapsed": true
   },
   "outputs": [],
   "source": [
    "def train(network,X,y):    \n",
    "    layer_activations = forward(network,X)\n",
    "    layer_inputs = [X]+layer_activations  \n",
    "    logits = layer_activations[-1]\n",
    "    \n",
    "    loss = np.square(logits - y).sum()\n",
    "    loss_grad = 2.0*(logits-y)\n",
    "    \n",
    "    for layer_i in range(len(network))[::-1]:\n",
    "        layer = network[layer_i]\n",
    "        loss_grad = layer.backward(layer_inputs[layer_i],loss_grad) #grad w.r.t. input, also weight updates\n",
    "        \n",
    "    return np.mean(loss)"
   ]
  },
  {
   "cell_type": "code",
   "execution_count": 84,
   "metadata": {
    "collapsed": true
   },
   "outputs": [],
   "source": [
    "x_train = np.linspace(-np.pi,0.7 * np.pi,140).reshape(140,-1)\n",
    "y_train = np.sin(x_train)\n",
    "x_test = np.linspace(np.pi*0.7,np.pi,60).reshape(60,-1)\n",
    "y_test = np.sin(x_test)"
   ]
  },
  {
   "cell_type": "code",
   "execution_count": 85,
   "metadata": {},
   "outputs": [],
   "source": [
    "network = []\n",
    "network.append(Dense(1,50))\n",
    "network.append(Tanh())\n",
    "network.append(Dense(50,1))"
   ]
  },
  {
   "cell_type": "code",
   "execution_count": 95,
   "metadata": {},
   "outputs": [
    {
     "name": "stdout",
     "output_type": "stream",
     "text": [
      "0.0923304694703\n",
      "0.0622982449888\n",
      "0.0361843882217\n",
      "0.0347532427226\n",
      "0.0276154020258\n",
      "0.0237258280583\n",
      "0.0187138606543\n",
      "0.0223748128195\n",
      "0.0231642180111\n",
      "0.0233247609011\n",
      "0.014771509013\n",
      "0.0180202671427\n",
      "0.0151900495832\n",
      "0.018850924869\n",
      "0.0195260787189\n",
      "0.0229930990717\n",
      "0.00885762889738\n",
      "0.0129748152225\n",
      "0.00919514077199\n",
      "0.0117293987699\n",
      "0.0912814319399\n",
      "0.0211341044272\n",
      "0.0128475714935\n",
      "0.0900537274473\n",
      "0.00921884669037\n",
      "0.0203142740566\n",
      "0.0146721543215\n",
      "0.0203560236744\n",
      "0.0123313807286\n",
      "0.0191126824156\n",
      "0.0202563365653\n",
      "0.0143059605157\n",
      "0.0215854125776\n",
      "0.0056524468914\n",
      "0.0130244790134\n",
      "0.0138153356435\n",
      "0.0183361203946\n",
      "0.0108762330655\n",
      "0.019741230602\n",
      "0.0127757992309\n",
      "0.00877337559762\n",
      "0.0103613918708\n",
      "0.00985344664988\n",
      "0.0122997906462\n",
      "0.034431684785\n",
      "0.093648412059\n",
      "0.0183037315599\n",
      "0.0091352716046\n",
      "0.0177613617855\n",
      "0.0192142228985\n",
      "0.0117632370688\n",
      "0.0111832656228\n",
      "0.0938840637882\n",
      "0.11679102387\n",
      "0.0121186457415\n",
      "0.00924682311894\n",
      "0.108286601867\n",
      "0.0172321145984\n",
      "0.00544816399628\n",
      "0.0139994538726\n",
      "0.00969612238543\n",
      "0.01081339074\n",
      "0.0151769269833\n",
      "0.0132117097895\n",
      "0.109230668035\n",
      "0.0144467666759\n",
      "0.012448216996\n",
      "0.00511234335446\n",
      "0.0188830147369\n",
      "0.011874154384\n",
      "0.00888629769531\n",
      "0.0140029481407\n",
      "0.00355522603708\n",
      "0.010399878835\n",
      "0.0040272721731\n",
      "0.0176432620613\n",
      "0.100564264434\n",
      "0.0174135282805\n",
      "0.018823524524\n",
      "0.00811002210059\n",
      "0.0130213292495\n",
      "0.0150549141488\n",
      "0.0141694504866\n",
      "0.0190404158621\n",
      "0.00483065996679\n",
      "0.0179732965051\n",
      "0.00526781986055\n",
      "0.0137973494795\n",
      "0.0165022003018\n",
      "0.013109281843\n",
      "0.00782930719252\n",
      "0.00316149531504\n",
      "0.00974743958807\n",
      "0.0178638741616\n",
      "0.00840511736011\n",
      "0.0178435852482\n",
      "0.00530457765011\n"
     ]
    }
   ],
   "source": [
    "losses = []\n",
    "for h in range(3,100):\n",
    "    network = []\n",
    "    network.append(Dense(1,h))\n",
    "    network.append(Tanh())\n",
    "    network.append(Dense(h,1))\n",
    "    ll = []\n",
    "    for e in range(100000):\n",
    "        loss = train(network,x_train,y_train)\n",
    "        ll.append(loss)\n",
    "    print(np.mean(ll[-1000:]))\n",
    "    losses.append(np.mean(ll[-1000:]))"
   ]
  },
  {
   "cell_type": "code",
   "execution_count": 96,
   "metadata": {},
   "outputs": [
    {
     "data": {
      "text/plain": [
       "<matplotlib.legend.Legend at 0x11522dc88>"
      ]
     },
     "execution_count": 96,
     "metadata": {},
     "output_type": "execute_result"
    },
    {
     "data": {
      "image/png": "[encoded data removed]",
      "text/plain": [
       "<matplotlib.figure.Figure at 0x114c9dc88>"
      ]
     },
     "metadata": {},
     "output_type": "display_data"
    }
   ],
   "source": [
    "plt.plot(x_train,y_train,c='r')\n",
    "plt.plot(x_test,y_test,c='y',label='true_value')\n",
    "plt.plot(x_train,predict(network,x_train),c='b')\n",
    "plt.plot(x_test,predict(network,x_test),c='g',label='predict_value')\n",
    "plt.legend()"
   ]
  },
  {
   "cell_type": "code",
   "execution_count": 97,
   "metadata": {},
   "outputs": [
    {
     "data": {
      "text/plain": [
       "[<matplotlib.lines.Line2D at 0x1152a2c50>]"
      ]
     },
     "execution_count": 97,
     "metadata": {},
     "output_type": "execute_result"
    },
    {
     "data": {
      "image/png": "[encoded data removed]",
      "text/plain": [
       "<matplotlib.figure.Figure at 0x114dc0ef0>"
      ]
     },
     "metadata": {},
     "output_type": "display_data"
    }
   ],
   "source": [
    "plt.plot(losses)"
   ]
  },
  {
   "cell_type": "code",
   "execution_count": 98,
   "metadata": {},
   "outputs": [
    {
     "data": {
      "text/plain": [
       "0.0031614953150352703"
      ]
     },
     "execution_count": 98,
     "metadata": {},
     "output_type": "execute_result"
    }
   ],
   "source": [
    "min(losses)"
   ]
  },
  {
   "cell_type": "code",
   "execution_count": 99,
   "metadata": {},
   "outputs": [
    {
     "data": {
      "text/plain": [
       "91"
      ]
     },
     "execution_count": 99,
     "metadata": {},
     "output_type": "execute_result"
    }
   ],
   "source": [
    "losses.index(0.0031614953150352703)"
   ]
  },
  {
   "cell_type": "code",
   "execution_count": 100,
   "metadata": {
    "collapsed": true
   },
   "outputs": [],
   "source": [
    "network = []\n",
    "network.append(Dense(1,94))\n",
    "network.append(Tanh())\n",
    "network.append(Dense(94,1))"
   ]
  },
  {
   "cell_type": "code",
   "execution_count": 101,
   "metadata": {
    "collapsed": true
   },
   "outputs": [],
   "source": [
    "ll = []\n",
    "for e in range(100000):\n",
    "    loss = train(network,x_train,y_train)\n",
    "    ll.append(loss)"
   ]
  },
  {
   "cell_type": "code",
   "execution_count": 102,
   "metadata": {},
   "outputs": [
    {
     "data": {
      "text/plain": [
       "[<matplotlib.lines.Line2D at 0x1153c8a90>]"
      ]
     },
     "execution_count": 102,
     "metadata": {},
     "output_type": "execute_result"
    },
    {
     "data": {
      "image/png": "[encoded data removed]",
      "text/plain": [
       "<matplotlib.figure.Figure at 0x115323f28>"
      ]
     },
     "metadata": {},
     "output_type": "display_data"
    }
   ],
   "source": [
    "plt.plot(ll)"
   ]
  },
  {
   "cell_type": "code",
   "execution_count": 103,
   "metadata": {},
   "outputs": [
    {
     "data": {
      "text/plain": [
       "<matplotlib.legend.Legend at 0x115825b38>"
      ]
     },
     "execution_count": 103,
     "metadata": {},
     "output_type": "execute_result"
    },
    {
     "data": {
      "image/png": "[encoded data removed]",
      "text/plain": [
       "<matplotlib.figure.Figure at 0x1153e0940>"
      ]
     },
     "metadata": {},
     "output_type": "display_data"
    }
   ],
   "source": [
    "plt.plot(x_train,y_train,c='r')\n",
    "plt.plot(x_test,y_test,c='y',label='true_value')\n",
    "plt.plot(x_train,predict(network,x_train),c='b')\n",
    "plt.plot(x_test,predict(network,x_test),c='g',label='predict_value')\n",
    "plt.legend()"
   ]
  },
  {
   "cell_type": "code",
   "execution_count": null,
   "metadata": {
    "collapsed": true
   },
   "outputs": [],
   "source": []
  }
 ],
 "metadata": {
  "kernelspec": {
   "display_name": "Python 3",
   "language": "python",
   "name": "python3"
  },
  "language_info": {
   "codemirror_mode": {
    "name": "ipython",
    "version": 3
   },
   "file_extension": ".py",
   "mimetype": "text/x-python",
   "name": "python",
   "nbconvert_exporter": "python",
   "pygments_lexer": "ipython3",
   "version": "3.6.1"
  }
 },
 "nbformat": 4,
 "nbformat_minor": 2
}
