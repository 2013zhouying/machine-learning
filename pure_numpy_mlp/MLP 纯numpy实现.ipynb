{
 "cells": [
  {
   "cell_type": "markdown",
   "metadata": {},
   "source": [
    "# MLP numpy实现"
   ]
  },
  {
   "cell_type": "code",
   "execution_count": 1,
   "metadata": {
    "collapsed": true
   },
   "outputs": [],
   "source": [
    "import numpy as np\n",
    "import matplotlib.pyplot as plt\n",
    "%matplotlib inline"
   ]
  },
  {
   "cell_type": "code",
   "execution_count": 2,
   "metadata": {
    "collapsed": true
   },
   "outputs": [],
   "source": [
    "# 定义一个layer\n",
    "class Layer:\n",
    "    def __init__(self):\n",
    "        pass\n",
    "    def forward(self, input):\n",
    "        return input\n",
    "    def backward(self, input, grad_output):\n",
    "        num_units = input.shape[1]\n",
    "        d_layer_d_input = np.eye(num_units)\n",
    "        return np.dot(grad_output, d_layer_d_input)"
   ]
  },
  {
   "cell_type": "code",
   "execution_count": 3,
   "metadata": {
    "collapsed": true
   },
   "outputs": [],
   "source": [
    "# 定义Relu层\n",
    "class ReLU(Layer):\n",
    "    def __init__(self):\n",
    "        pass\n",
    "    def forward(self,input):\n",
    "        return np.maximum(0,input)\n",
    "    def backward(self,input,grad_output):\n",
    "        relu_grad = input>0\n",
    "        return grad_output*relu_grad"
   ]
  },
  {
   "cell_type": "code",
   "execution_count": 4,
   "metadata": {
    "collapsed": true
   },
   "outputs": [],
   "source": [
    "class Dense(Layer):\n",
    "    def __init__(self, input_units, output_units, learning_rate=0.1,initialization='xavier'):\n",
    "        self.learning_rate = learning_rate\n",
    "        if initialization=='xavier':\n",
    "            self.weights = np.random.randn(input_units, output_units) * np.sqrt(2.0/(input_units+output_units))\n",
    "        self.weights = np.random.randn(input_units, output_units)*0.01\n",
    "        self.biases = np.zeros(output_units)\n",
    "    def forward(self,input):\n",
    "        return np.dot(input,self.weights)+self.biases\n",
    "    def backward(self,input,grad_output):\n",
    "        grad_input = np.dot(grad_output, self.weights.T)\n",
    "        grad_weights = np.dot(input.T,grad_output)/input.shape[0]\n",
    "        grad_biases = grad_output.mean(axis=0)\n",
    "        self.weights = self.weights - self.learning_rate*grad_weights\n",
    "        self.biases = self.biases - self.learning_rate*grad_biases\n",
    "        return grad_input"
   ]
  },
  {
   "cell_type": "code",
   "execution_count": 5,
   "metadata": {
    "collapsed": true
   },
   "outputs": [],
   "source": [
    "def forward(network,X):\n",
    "    activations = []\n",
    "    input = X\n",
    "    for layer in network:\n",
    "        activations.append(layer.forward(input))\n",
    "        input = activations[-1]\n",
    "                \n",
    "    assert len(activations) == len(network)\n",
    "    return activations"
   ]
  },
  {
   "cell_type": "code",
   "execution_count": 6,
   "metadata": {
    "collapsed": true
   },
   "outputs": [],
   "source": [
    "def predict(network,X):\n",
    "    logits = forward(network,X)[-1]\n",
    "    return logits"
   ]
  },
  {
   "cell_type": "code",
   "execution_count": 7,
   "metadata": {
    "collapsed": true
   },
   "outputs": [],
   "source": [
    "def train(network,X,y):    \n",
    "    layer_activations = forward(network,X)\n",
    "    layer_inputs = [X]+layer_activations  \n",
    "    logits = layer_activations[-1]\n",
    "    \n",
    "    loss = np.square(logits - y).sum()\n",
    "    loss_grad = 2.0*(logits-y)\n",
    "    \n",
    "    for layer_i in range(len(network))[::-1]:\n",
    "        layer = network[layer_i]\n",
    "        loss_grad = layer.backward(layer_inputs[layer_i],loss_grad) #grad w.r.t. input, also weight updates\n",
    "        \n",
    "    return np.mean(loss)"
   ]
  },
  {
   "cell_type": "code",
   "execution_count": 35,
   "metadata": {},
   "outputs": [],
   "source": [
    "x_train = np.linspace(-np.pi,0.7 * np.pi,140).reshape(140,-1)\n",
    "y_train = np.sin(x_train)\n",
    "x_test = np.linspace(np.pi*0.7,np.pi,60).reshape(60,-1)\n",
    "y_test = np.sin(x_test)"
   ]
  },
  {
   "cell_type": "code",
   "execution_count": 26,
   "metadata": {},
   "outputs": [
    {
     "name": "stdout",
     "output_type": "stream",
     "text": [
      "3.1293878154\n",
      "3.91601506302\n",
      "13.896676292\n",
      "93.1707041274\n",
      "99.499931085\n"
     ]
    }
   ],
   "source": [
    "l = []\n",
    "for h in range(5):\n",
    "    network = []\n",
    "    network.append(Dense(1,100))\n",
    "    network.append(ReLU())\n",
    "    for _ in range(h):\n",
    "        network.append(Dense(100,100))\n",
    "        network.append(ReLU())\n",
    "    network.append(Dense(100,1))\n",
    "    losses = []\n",
    "    for e in range(5000):\n",
    "        ll = train(network,x,y)\n",
    "        losses.append(ll)\n",
    "    l.append(np.mean(losses))\n",
    "    print(np.mean(losses))"
   ]
  },
  {
   "cell_type": "code",
   "execution_count": 27,
   "metadata": {},
   "outputs": [
    {
     "data": {
      "text/plain": [
       "[<matplotlib.lines.Line2D at 0x11bbaf128>]"
      ]
     },
     "execution_count": 27,
     "metadata": {},
     "output_type": "execute_result"
    },
    {
     "data": {
      "image/png": "[encoded data removed]",
      "text/plain": [
       "<matplotlib.figure.Figure at 0x11bff8f28>"
      ]
     },
     "metadata": {},
     "output_type": "display_data"
    }
   ],
   "source": [
    "plt.plot(l)"
   ]
  },
  {
   "cell_type": "code",
   "execution_count": 28,
   "metadata": {
    "collapsed": true
   },
   "outputs": [],
   "source": [
    "network = []\n",
    "network.append(Dense(1,100))\n",
    "network.append(ReLU())\n",
    "for _ in range(0):\n",
    "    network.append(Dense(100,100))\n",
    "    network.append(ReLU())\n",
    "network.append(Dense(100,1))\n",
    "losses = []\n",
    "for e in range(5000):\n",
    "    ll = train(network,x,y)\n",
    "    losses.append(ll)"
   ]
  },
  {
   "cell_type": "code",
   "execution_count": 29,
   "metadata": {},
   "outputs": [
    {
     "data": {
      "text/plain": [
       "[<matplotlib.lines.Line2D at 0x11c51b908>]"
      ]
     },
     "execution_count": 29,
     "metadata": {},
     "output_type": "execute_result"
    },
    {
     "data": {
      "image/png": "[encoded data removed]",
      "text/plain": [
       "<matplotlib.figure.Figure at 0x11c4f3470>"
      ]
     },
     "metadata": {},
     "output_type": "display_data"
    }
   ],
   "source": [
    "plt.plot(losses)"
   ]
  },
  {
   "cell_type": "code",
   "execution_count": 37,
   "metadata": {},
   "outputs": [
    {
     "name": "stdout",
     "output_type": "stream",
     "text": [
      "3.04162923625\n",
      "2.55056031114\n",
      "2.37343184162\n",
      "2.34834389707\n",
      "2.14563639215\n",
      "2.0890546303\n",
      "2.03951193241\n",
      "1.96903755547\n",
      "1.91728653311\n",
      "1.93762374618\n",
      "1.84345980049\n",
      "1.82787204731\n",
      "1.77004340044\n",
      "1.75243912511\n",
      "1.72395524528\n",
      "1.72223744267\n",
      "1.63216816743\n",
      "1.6524198984\n",
      "1.64335836822\n",
      "1.5641770839\n",
      "1.55006399853\n",
      "1.52400658906\n",
      "1.54076235624\n",
      "1.49826556468\n",
      "1.45777640003\n",
      "1.46829033841\n",
      "1.42969508127\n",
      "1.42000991292\n",
      "1.39969638974\n",
      "1.37778088992\n",
      "1.36800207991\n",
      "1.38890059207\n",
      "1.37362924274\n",
      "1.34870262844\n",
      "1.31310410828\n",
      "1.2877550384\n",
      "1.31336053445\n",
      "1.2831030789\n",
      "1.26185157015\n",
      "1.24884453501\n",
      "1.25882304182\n",
      "1.24826875017\n",
      "1.23774861695\n",
      "1.22309795477\n",
      "1.20138764884\n",
      "1.20922207637\n",
      "1.1886866113\n",
      "1.16509774838\n",
      "1.18121521588\n"
     ]
    }
   ],
   "source": [
    "l = []\n",
    "for h in range(100,5000,100):\n",
    "    network = []\n",
    "    network.append(Dense(1,h))\n",
    "    network.append(ReLU())\n",
    "    network.append(Dense(h,1))\n",
    "    losses = []\n",
    "    for e in range(5000):\n",
    "        ll = train(network,x,y)\n",
    "        losses.append(ll)\n",
    "    l.append(np.mean(losses))\n",
    "    print(np.mean(losses))"
   ]
  },
  {
   "cell_type": "code",
   "execution_count": 38,
   "metadata": {},
   "outputs": [
    {
     "data": {
      "text/plain": [
       "[<matplotlib.lines.Line2D at 0x11c98e208>]"
      ]
     },
     "execution_count": 38,
     "metadata": {},
     "output_type": "execute_result"
    },
    {
     "data": {
      "image/png": "[encoded data removed]",
      "text/plain": [
       "<matplotlib.figure.Figure at 0x11c98e390>"
      ]
     },
     "metadata": {},
     "output_type": "display_data"
    }
   ],
   "source": [
    "plt.plot(x,y,c='r')\n",
    "plt.plot(x,predict(network,x),c='b')"
   ]
  },
  {
   "cell_type": "code",
   "execution_count": 39,
   "metadata": {},
   "outputs": [
    {
     "data": {
      "text/plain": [
       "[<matplotlib.lines.Line2D at 0x11cb709e8>]"
      ]
     },
     "execution_count": 39,
     "metadata": {},
     "output_type": "execute_result"
    },
    {
     "data": {
      "image/png": "[encoded data removed]",
      "text/plain": [
       "<matplotlib.figure.Figure at 0x11c9f0208>"
      ]
     },
     "metadata": {},
     "output_type": "display_data"
    }
   ],
   "source": [
    "plt.plot(x_train,y_train,c='r')\n",
    "plt.plot(x_train,predict(network,x_train),c='b')\n",
    "plt.plot(x_test,predict(network,x_test),c='g')"
   ]
  },
  {
   "cell_type": "code",
   "execution_count": null,
   "metadata": {
    "collapsed": true
   },
   "outputs": [],
   "source": []
  }
 ],
 "metadata": {
  "kernelspec": {
   "display_name": "Python 3",
   "language": "python",
   "name": "python3"
  },
  "language_info": {
   "codemirror_mode": {
    "name": "ipython",
    "version": 3
   },
   "file_extension": ".py",
   "mimetype": "text/x-python",
   "name": "python",
   "nbconvert_exporter": "python",
   "pygments_lexer": "ipython3",
   "version": "3.6.1"
  }
 },
 "nbformat": 4,
 "nbformat_minor": 2
}
