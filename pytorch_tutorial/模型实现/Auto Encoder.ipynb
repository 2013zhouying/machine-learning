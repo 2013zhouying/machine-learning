{
 "cells": [
  {
   "cell_type": "markdown",
   "metadata": {},
   "source": [
    "# simple autoEncoder"
   ]
  },
  {
   "cell_type": "code",
   "execution_count": 1,
   "metadata": {
    "collapsed": true
   },
   "outputs": [],
   "source": [
    "import os\n",
    "\n",
    "import torch\n",
    "import torch.nn as nn\n",
    "from torch.autograd import Variable\n",
    "from torch.utils.data import DataLoader\n",
    "from torchvision import transforms\n",
    "from torchvision.datasets import MNIST\n",
    "from torchvision.utils import save_image"
   ]
  },
  {
   "cell_type": "code",
   "execution_count": 2,
   "metadata": {
    "collapsed": true
   },
   "outputs": [],
   "source": [
    "if not os.path.exists('mlp_img/'):\n",
    "    os.mkdir('mlp_img/')"
   ]
  },
  {
   "cell_type": "code",
   "execution_count": 3,
   "metadata": {
    "collapsed": true
   },
   "outputs": [],
   "source": [
    "def to_img(x):\n",
    "    x = 0.5*(x+1)\n",
    "    x = x.clamp(0,1)\n",
    "    x = x.view(x.size(0),1,28,28)\n",
    "    return x"
   ]
  },
  {
   "cell_type": "code",
   "execution_count": 4,
   "metadata": {
    "collapsed": true
   },
   "outputs": [],
   "source": [
    "num_epochs = 100\n",
    "batch_size = 32\n",
    "learning_rate = 1e-3"
   ]
  },
  {
   "cell_type": "code",
   "execution_count": 5,
   "metadata": {
    "collapsed": true
   },
   "outputs": [],
   "source": [
    "img_transform = transforms.Compose([\n",
    "    transforms.ToTensor(),\n",
    "    transforms.Normalize((0.5,0.5,0.5),(0.5,0.5,0.5))\n",
    "])"
   ]
  },
  {
   "cell_type": "code",
   "execution_count": 6,
   "metadata": {
    "collapsed": true
   },
   "outputs": [],
   "source": [
    "dataset = MNIST('data/',transform=img_transform)\n",
    "dataloader = DataLoader(dataset,batch_size=batch_size,shuffle=True)"
   ]
  },
  {
   "cell_type": "code",
   "execution_count": 10,
   "metadata": {
    "collapsed": true
   },
   "outputs": [],
   "source": [
    "class autoencoder(nn.Module):\n",
    "    def __init__(self,):\n",
    "        super(autoencoder, self).__init__()\n",
    "        self.encoder = nn.Sequential(\n",
    "            nn.Linear(28*28,128),\n",
    "            nn.ReLU(True),\n",
    "            nn.Linear(128,64),\n",
    "            nn.ReLU(True),\n",
    "            nn.Linear(64,12),\n",
    "            nn.ReLU(True),\n",
    "            nn.Linear(12,3)\n",
    "        )\n",
    "        self.decoder = nn.Sequential(\n",
    "            nn.Linear(3,12),\n",
    "            nn.ReLU(True),\n",
    "            nn.Linear(12,64),\n",
    "            nn.ReLU(True),\n",
    "            nn.Linear(64,128),\n",
    "            nn.ReLU(True),\n",
    "            nn.Linear(128,28*28),\n",
    "            nn.Tanh()\n",
    "        )\n",
    "    def forward(self,x):\n",
    "        x = self.encoder(x)\n",
    "        x = self.decoder(x)\n",
    "        return x"
   ]
  },
  {
   "cell_type": "code",
   "execution_count": 11,
   "metadata": {
    "collapsed": true
   },
   "outputs": [],
   "source": [
    "model = autoencoder()\n",
    "criterion = nn.MSELoss()\n",
    "optimizer = torch.optim.Adam(model.parameters(),lr=learning_rate,weight_decay=1e-5)"
   ]
  },
  {
   "cell_type": "code",
   "execution_count": 12,
   "metadata": {},
   "outputs": [
    {
     "name": "stdout",
     "output_type": "stream",
     "text": [
      "epoch [1/100], loss:0.1727\n",
      "epoch [2/100], loss:0.1518\n",
      "epoch [3/100], loss:0.1585\n",
      "epoch [4/100], loss:0.1366\n",
      "epoch [5/100], loss:0.1425\n",
      "epoch [6/100], loss:0.1252\n",
      "epoch [7/100], loss:0.1253\n",
      "epoch [8/100], loss:0.1298\n",
      "epoch [9/100], loss:0.1495\n",
      "epoch [10/100], loss:0.1156\n",
      "epoch [11/100], loss:0.1486\n",
      "epoch [12/100], loss:0.1227\n",
      "epoch [13/100], loss:0.1322\n",
      "epoch [14/100], loss:0.1257\n",
      "epoch [15/100], loss:0.1626\n",
      "epoch [16/100], loss:0.1490\n",
      "epoch [17/100], loss:0.1164\n",
      "epoch [18/100], loss:0.1157\n",
      "epoch [19/100], loss:0.1260\n",
      "epoch [20/100], loss:0.1227\n",
      "epoch [21/100], loss:0.1144\n",
      "epoch [22/100], loss:0.1368\n",
      "epoch [23/100], loss:0.1069\n",
      "epoch [24/100], loss:0.1113\n",
      "epoch [25/100], loss:0.1392\n",
      "epoch [26/100], loss:0.1169\n",
      "epoch [27/100], loss:0.1026\n",
      "epoch [28/100], loss:0.1272\n",
      "epoch [29/100], loss:0.1072\n",
      "epoch [30/100], loss:0.1369\n",
      "epoch [31/100], loss:0.1161\n",
      "epoch [32/100], loss:0.1039\n",
      "epoch [33/100], loss:0.1105\n",
      "epoch [34/100], loss:0.1314\n",
      "epoch [35/100], loss:0.1154\n",
      "epoch [36/100], loss:0.1451\n",
      "epoch [37/100], loss:0.1090\n",
      "epoch [38/100], loss:0.1554\n",
      "epoch [39/100], loss:0.1379\n",
      "epoch [40/100], loss:0.0949\n",
      "epoch [41/100], loss:0.1210\n",
      "epoch [42/100], loss:0.1226\n",
      "epoch [43/100], loss:0.1255\n",
      "epoch [44/100], loss:0.1254\n",
      "epoch [45/100], loss:0.1299\n",
      "epoch [46/100], loss:0.1157\n",
      "epoch [47/100], loss:0.1197\n",
      "epoch [48/100], loss:0.1359\n",
      "epoch [49/100], loss:0.1047\n",
      "epoch [50/100], loss:0.1298\n",
      "epoch [51/100], loss:0.1192\n",
      "epoch [52/100], loss:0.1519\n",
      "epoch [53/100], loss:0.1106\n",
      "epoch [54/100], loss:0.1197\n",
      "epoch [55/100], loss:0.1362\n",
      "epoch [56/100], loss:0.1269\n",
      "epoch [57/100], loss:0.1140\n",
      "epoch [58/100], loss:0.1402\n",
      "epoch [59/100], loss:0.1168\n",
      "epoch [60/100], loss:0.1520\n",
      "epoch [61/100], loss:0.1213\n",
      "epoch [62/100], loss:0.1363\n",
      "epoch [63/100], loss:0.1335\n",
      "epoch [64/100], loss:0.1219\n",
      "epoch [65/100], loss:0.1332\n",
      "epoch [66/100], loss:0.1141\n",
      "epoch [67/100], loss:0.1209\n",
      "epoch [68/100], loss:0.1237\n",
      "epoch [69/100], loss:0.1392\n",
      "epoch [70/100], loss:0.1146\n",
      "epoch [71/100], loss:0.1233\n",
      "epoch [72/100], loss:0.1111\n",
      "epoch [73/100], loss:0.1450\n",
      "epoch [74/100], loss:0.1121\n",
      "epoch [75/100], loss:0.1406\n",
      "epoch [76/100], loss:0.1395\n",
      "epoch [77/100], loss:0.1452\n",
      "epoch [78/100], loss:0.1212\n",
      "epoch [79/100], loss:0.1244\n",
      "epoch [80/100], loss:0.1432\n",
      "epoch [81/100], loss:0.1159\n",
      "epoch [82/100], loss:0.1140\n",
      "epoch [83/100], loss:0.1344\n",
      "epoch [84/100], loss:0.1364\n",
      "epoch [85/100], loss:0.1199\n",
      "epoch [86/100], loss:0.1422\n",
      "epoch [87/100], loss:0.1268\n",
      "epoch [88/100], loss:0.1147\n",
      "epoch [89/100], loss:0.1201\n",
      "epoch [90/100], loss:0.0980\n",
      "epoch [91/100], loss:0.1308\n",
      "epoch [92/100], loss:0.1309\n",
      "epoch [93/100], loss:0.1134\n",
      "epoch [94/100], loss:0.1079\n",
      "epoch [95/100], loss:0.1074\n",
      "epoch [96/100], loss:0.1122\n",
      "epoch [97/100], loss:0.1214\n",
      "epoch [98/100], loss:0.1551\n",
      "epoch [99/100], loss:0.1228\n",
      "epoch [100/100], loss:0.1241\n"
     ]
    }
   ],
   "source": [
    "for epoch in range(num_epochs):\n",
    "    for data in dataloader:\n",
    "        img,_ = data\n",
    "        img = img.view(img.size(0),-1)\n",
    "        img = Variable(img)\n",
    "        output = model(img)\n",
    "        loss = criterion(output,img)\n",
    "        \n",
    "        optimizer.zero_grad()\n",
    "        loss.backward()\n",
    "        optimizer.step()\n",
    "    print('epoch [{}/{}], loss:{:.4f}'.format(epoch+1,num_epochs,loss.data[0]))\n",
    "    if epoch % 10 == 0:\n",
    "        pic = to_img(output.cpu().data)\n",
    "        save_image(pic,'mlp_img/img_{}.png'.format(epoch))"
   ]
  },
  {
   "cell_type": "code",
   "execution_count": 14,
   "metadata": {},
   "outputs": [],
   "source": [
    "torch.save(model.state_dict(),'sim_autoencoder.pth')"
   ]
  },
  {
   "cell_type": "code",
   "execution_count": null,
   "metadata": {
    "collapsed": true
   },
   "outputs": [],
   "source": []
  }
 ],
 "metadata": {
  "kernelspec": {
   "display_name": "Python 3",
   "language": "python",
   "name": "python3"
  },
  "language_info": {
   "codemirror_mode": {
    "name": "ipython",
    "version": 3
   },
   "file_extension": ".py",
   "mimetype": "text/x-python",
   "name": "python",
   "nbconvert_exporter": "python",
   "pygments_lexer": "ipython3",
   "version": "3.6.1"
  }
 },
 "nbformat": 4,
 "nbformat_minor": 2
}
