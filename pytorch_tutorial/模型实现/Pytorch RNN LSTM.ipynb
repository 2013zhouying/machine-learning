{
 "cells": [
  {
   "cell_type": "markdown",
   "metadata": {},
   "source": [
    "# RNN with Pytorch"
   ]
  },
  {
   "cell_type": "code",
   "execution_count": 1,
   "metadata": {
    "collapsed": true
   },
   "outputs": [],
   "source": [
    "import numpy as np\n",
    "import torch\n",
    "from torch import nn\n",
    "from torch.autograd import Variable\n",
    "from torchvision import datasets\n",
    "from torchvision import transforms\n",
    "from matplotlib import pyplot as plt\n",
    "\n",
    "%matplotlib inline"
   ]
  },
  {
   "cell_type": "code",
   "execution_count": 2,
   "metadata": {
    "collapsed": true
   },
   "outputs": [],
   "source": [
    "# Hyper Parameters\n",
    "EPOCH = 1               # train the training data n times, to save time, we just train 1 epoch\n",
    "BATCH_SIZE = 64\n",
    "TIME_STEP = 28          # rnn time step / image height\n",
    "INPUT_SIZE = 28         # rnn input size / image width\n",
    "LR = 0.01               # learning rate\n",
    "DOWNLOAD_MNIST = True   # set to True if haven't download the data"
   ]
  },
  {
   "cell_type": "code",
   "execution_count": 3,
   "metadata": {
    "collapsed": true
   },
   "outputs": [],
   "source": [
    "train_data = datasets.MNIST(\n",
    "        root='data/',\n",
    "        train=True,    \n",
    "        transform=transforms.ToTensor(),\n",
    "        download=DOWNLOAD_MNIST,\n",
    ")\n",
    "test_data = datasets.MNIST(\n",
    "        root='data/',\n",
    "        train=False,    \n",
    "        transform=transforms.ToTensor(),\n",
    "        download=DOWNLOAD_MNIST,\n",
    ")"
   ]
  },
  {
   "cell_type": "code",
   "execution_count": 4,
   "metadata": {},
   "outputs": [
    {
     "name": "stdout",
     "output_type": "stream",
     "text": [
      "torch.Size([60000, 28, 28])\n",
      "torch.Size([60000])\n"
     ]
    },
    {
     "data": {
      "image/png": "[encoded data removed]",
      "text/plain": [
       "<matplotlib.figure.Figure at 0x1142cd3c8>"
      ]
     },
     "metadata": {},
     "output_type": "display_data"
    }
   ],
   "source": [
    "print(train_data.train_data.size())     # (60000, 28, 28)\n",
    "print(train_data.train_labels.size())   # (60000)\n",
    "plt.imshow(train_data.train_data[0].numpy(), cmap='gray')\n",
    "plt.title('%i' % train_data.train_labels[0])\n",
    "plt.show()"
   ]
  },
  {
   "cell_type": "code",
   "execution_count": 5,
   "metadata": {},
   "outputs": [],
   "source": [
    "train_loader = torch.utils.data.DataLoader(train_data, batch_size=BATCH_SIZE, shuffle=True)\n",
    "test_loader = torch.utils.data.DataLoader(test_data, batch_size=BATCH_SIZE, shuffle=False)"
   ]
  },
  {
   "cell_type": "code",
   "execution_count": 6,
   "metadata": {
    "collapsed": true
   },
   "outputs": [],
   "source": [
    "class RNN(nn.Module):\n",
    "    def __init__(self):\n",
    "        super(RNN, self).__init__()\n",
    "        self.lstm = nn.LSTM(28, 64, 2)\n",
    "        # self.lstm = nn.LSTM(28, 64, 2, batch_first=True)\n",
    "        self.clf = nn.Linear(64,10)\n",
    "    def forward(self, x):\n",
    "        out, _ = self.lstm(x)        \n",
    "        out = self.clf(out[-1,:,:])\n",
    "        # out = self.clf(out[:,-1,:])\n",
    "        return out"
   ]
  },
  {
   "cell_type": "code",
   "execution_count": 7,
   "metadata": {},
   "outputs": [],
   "source": [
    "rnn = RNN()\n",
    "criterion = nn.CrossEntropyLoss()\n",
    "optimizer = torch.optim.Adam(rnn.parameters(), lr=1e-2)"
   ]
  },
  {
   "cell_type": "code",
   "execution_count": 10,
   "metadata": {},
   "outputs": [
    {
     "name": "stdout",
     "output_type": "stream",
     "text": [
      "epoch 1\n",
      "**********\n",
      "[1/2] Loss: 0.162905, Acc: 0.953125\n",
      "[1/2] Loss: 0.142473, Acc: 0.959167\n",
      "[1/2] Loss: 0.133689, Acc: 0.961476\n",
      "Finish 1 epoch, Loss: 0.133367, Acc: 0.961650\n",
      "epoch 2\n",
      "**********\n",
      "[2/2] Loss: 0.099753, Acc: 0.971094\n",
      "[2/2] Loss: 0.097710, Acc: 0.972214\n",
      "[2/2] Loss: 0.095464, Acc: 0.972778\n",
      "Finish 2 epoch, Loss: 0.094663, Acc: 0.972933\n"
     ]
    }
   ],
   "source": [
    "num_epoches = 2\n",
    "batch_size = BATCH_SIZE\n",
    "for epoch in range(num_epoches):\n",
    "    print('epoch {}'.format(epoch+1))\n",
    "    print('*'*10)\n",
    "    running_loss = 0.0\n",
    "    running_acc = 0.0\n",
    "    for i, data in enumerate(train_loader, 1):\n",
    "        img, label = data\n",
    "        b, c, h, w = img.size() # batch, 1, 28, 28\n",
    "        img = img.permute(3,0,1,2).contiguous().view(w,b,h) # 28,b,28\n",
    "        # img = img.view(b,w,h)\n",
    "        img = Variable(img)\n",
    "        label = Variable(label)\n",
    "        out = rnn(img)\n",
    "        loss = criterion(out, label)\n",
    "        running_loss += loss.data[0] * label.size(0)\n",
    "        _, pred = torch.max(out, 1)\n",
    "        num_correct = (pred==label).sum()\n",
    "        running_acc += num_correct.data[0]\n",
    "        optimizer.zero_grad()\n",
    "        loss.backward()\n",
    "        optimizer.step()\n",
    "        \n",
    "        if i % 300 == 0:\n",
    "            print('[{}/{}] Loss: {:.6f}, Acc: {:.6f}'.format(\n",
    "                epoch+1, num_epoches,\n",
    "                running_loss/(batch_size*i),\n",
    "                running_acc/(batch_size*i)\n",
    "            ))\n",
    "    print('Finish {} epoch, Loss: {:.6f}, Acc: {:.6f}'.format(\n",
    "        epoch+1,\n",
    "        running_loss/(len(train_data)),\n",
    "        running_acc/(len(train_data))\n",
    "    ))"
   ]
  },
  {
   "cell_type": "code",
   "execution_count": null,
   "metadata": {
    "collapsed": true
   },
   "outputs": [],
   "source": []
  }
 ],
 "metadata": {
  "kernelspec": {
   "display_name": "Python 3",
   "language": "python",
   "name": "python3"
  },
  "language_info": {
   "codemirror_mode": {
    "name": "ipython",
    "version": 3
   },
   "file_extension": ".py",
   "mimetype": "text/x-python",
   "name": "python",
   "nbconvert_exporter": "python",
   "pygments_lexer": "ipython3",
   "version": "3.6.1"
  }
 },
 "nbformat": 4,
 "nbformat_minor": 2
}
