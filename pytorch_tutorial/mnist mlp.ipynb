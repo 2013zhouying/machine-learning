{
 "cells": [
  {
   "cell_type": "markdown",
   "metadata": {},
   "source": [
    "# mnist mlp"
   ]
  },
  {
   "cell_type": "code",
   "execution_count": 1,
   "metadata": {
    "collapsed": true
   },
   "outputs": [],
   "source": [
    "import torch\n",
    "import torch.nn as nn\n",
    "import torchvision.datasets as dsets\n",
    "import torchvision.transforms as transforms\n",
    "from torch.autograd import Variable"
   ]
  },
  {
   "cell_type": "code",
   "execution_count": 2,
   "metadata": {
    "collapsed": true
   },
   "outputs": [],
   "source": [
    "# Hyper Parameters \n",
    "input_size = 784\n",
    "hidden_size = 500\n",
    "num_classes = 10\n",
    "num_epochs = 5\n",
    "batch_size = 100\n",
    "learning_rate = 0.001"
   ]
  },
  {
   "cell_type": "code",
   "execution_count": 4,
   "metadata": {},
   "outputs": [],
   "source": [
    "# MNIST Dataset \n",
    "train_dataset = dsets.MNIST(root='../data/', \n",
    "                            train=True, \n",
    "                            transform=transforms.ToTensor(),  \n",
    "                            download=False)\n",
    "\n",
    "test_dataset = dsets.MNIST(root='../data/', \n",
    "                           train=False, \n",
    "                           transform=transforms.ToTensor())"
   ]
  },
  {
   "cell_type": "code",
   "execution_count": 5,
   "metadata": {
    "collapsed": true
   },
   "outputs": [],
   "source": [
    "train_loader = torch.utils.data.DataLoader(dataset=train_dataset, \n",
    "                                           batch_size=batch_size, \n",
    "                                           shuffle=True)\n",
    "\n",
    "test_loader = torch.utils.data.DataLoader(dataset=test_dataset, \n",
    "                                          batch_size=batch_size, \n",
    "                                          shuffle=False)"
   ]
  },
  {
   "cell_type": "code",
   "execution_count": 12,
   "metadata": {
    "collapsed": true
   },
   "outputs": [],
   "source": [
    "class Net(nn.Module):\n",
    "    def __init__(self,input_size,hidden_size,num_classes):\n",
    "        super(Net,self).__init__()\n",
    "        self.fc1 = nn.Linear(input_size,hidden_size)\n",
    "        self.relu = nn.ReLU()\n",
    "        self.fc2 = nn.Linear(hidden_size,num_classes)\n",
    "    def forward(self,x):\n",
    "        out = self.fc1(x)\n",
    "        out = self.relu(out)\n",
    "        out = self.fc2(out)\n",
    "        return out"
   ]
  },
  {
   "cell_type": "code",
   "execution_count": 14,
   "metadata": {},
   "outputs": [],
   "source": [
    "net = Net(input_size,hidden_size,num_classes)\n",
    "loss_fn = nn.CrossEntropyLoss()\n",
    "optimizer = torch.optim.Adam(net.parameters(),lr=learning_rate)"
   ]
  },
  {
   "cell_type": "code",
   "execution_count": 15,
   "metadata": {},
   "outputs": [
    {
     "name": "stdout",
     "output_type": "stream",
     "text": [
      "Epoch [1/5], Step [100/600], Loss: 0.2526\n",
      "Epoch [1/5], Step [200/600], Loss: 0.1471\n",
      "Epoch [1/5], Step [300/600], Loss: 0.3043\n",
      "Epoch [1/5], Step [400/600], Loss: 0.1566\n",
      "Epoch [1/5], Step [500/600], Loss: 0.1710\n",
      "Epoch [1/5], Step [600/600], Loss: 0.1516\n",
      "Epoch [2/5], Step [100/600], Loss: 0.1243\n",
      "Epoch [2/5], Step [200/600], Loss: 0.1179\n",
      "Epoch [2/5], Step [300/600], Loss: 0.1637\n",
      "Epoch [2/5], Step [400/600], Loss: 0.1170\n",
      "Epoch [2/5], Step [500/600], Loss: 0.0770\n",
      "Epoch [2/5], Step [600/600], Loss: 0.2107\n",
      "Epoch [3/5], Step [100/600], Loss: 0.0977\n",
      "Epoch [3/5], Step [200/600], Loss: 0.0443\n",
      "Epoch [3/5], Step [300/600], Loss: 0.1445\n",
      "Epoch [3/5], Step [400/600], Loss: 0.0241\n",
      "Epoch [3/5], Step [500/600], Loss: 0.0518\n",
      "Epoch [3/5], Step [600/600], Loss: 0.0462\n",
      "Epoch [4/5], Step [100/600], Loss: 0.0641\n",
      "Epoch [4/5], Step [200/600], Loss: 0.0469\n",
      "Epoch [4/5], Step [300/600], Loss: 0.0426\n",
      "Epoch [4/5], Step [400/600], Loss: 0.0406\n",
      "Epoch [4/5], Step [500/600], Loss: 0.1148\n",
      "Epoch [4/5], Step [600/600], Loss: 0.0286\n",
      "Epoch [5/5], Step [100/600], Loss: 0.0708\n",
      "Epoch [5/5], Step [200/600], Loss: 0.0785\n",
      "Epoch [5/5], Step [300/600], Loss: 0.0581\n",
      "Epoch [5/5], Step [400/600], Loss: 0.0173\n",
      "Epoch [5/5], Step [500/600], Loss: 0.0472\n",
      "Epoch [5/5], Step [600/600], Loss: 0.0445\n"
     ]
    }
   ],
   "source": [
    "for epoch in range(num_epochs):\n",
    "    for i,(images,labels) in enumerate(train_loader):\n",
    "        images = Variable(images.view(-1,28*28))\n",
    "        labels = Variable(labels)\n",
    "        \n",
    "        optimizer.zero_grad()\n",
    "        y_pred = net(images)\n",
    "        loss = loss_fn(y_pred,labels)\n",
    "        loss.backward()\n",
    "        optimizer.step()\n",
    "        if (i+1) % 100 == 0:\n",
    "            print ('Epoch [%d/%d], Step [%d/%d], Loss: %.4f' \n",
    "                   %(epoch+1, num_epochs, i+1, len(train_dataset)//batch_size, loss.data[0]))"
   ]
  },
  {
   "cell_type": "code",
   "execution_count": 16,
   "metadata": {
    "collapsed": true
   },
   "outputs": [],
   "source": [
    "correct = 0\n",
    "total = 0\n",
    "for images, labels in test_loader:\n",
    "    images = Variable(images.view(-1, 28*28))\n",
    "    outputs = net(images)\n",
    "    _, predicted = torch.max(outputs.data, 1)\n",
    "    total += labels.size(0)\n",
    "    correct += (predicted == labels).sum()"
   ]
  },
  {
   "cell_type": "code",
   "execution_count": 17,
   "metadata": {},
   "outputs": [
    {
     "data": {
      "text/plain": [
       "0.9778"
      ]
     },
     "execution_count": 17,
     "metadata": {},
     "output_type": "execute_result"
    }
   ],
   "source": [
    "correct/total"
   ]
  },
  {
   "cell_type": "code",
   "execution_count": null,
   "metadata": {
    "collapsed": true
   },
   "outputs": [],
   "source": []
  }
 ],
 "metadata": {
  "kernelspec": {
   "display_name": "Python 3",
   "language": "python",
   "name": "python3"
  },
  "language_info": {
   "codemirror_mode": {
    "name": "ipython",
    "version": 3
   },
   "file_extension": ".py",
   "mimetype": "text/x-python",
   "name": "python",
   "nbconvert_exporter": "python",
   "pygments_lexer": "ipython3",
   "version": "3.6.1"
  }
 },
 "nbformat": 4,
 "nbformat_minor": 2
}
